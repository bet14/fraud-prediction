{
 "cells": [
  {
   "cell_type": "code",
   "execution_count": 1,
   "id": "dd23989f-28db-4069-b0d8-8230e9e3d93f",
   "metadata": {},
   "outputs": [],
   "source": [
    "import csv\n",
    "from collections import defaultdict\n",
    "from math import log10\n",
    "import matplotlib\n",
    "matplotlib.use(\"Agg\") #Needed to save figures\n",
    "import matplotlib.pyplot as plt\n",
    "\n",
    "#Get counts for starting digit in columns: counts, registered, casual\n",
    "d = defaultdict(int)\n",
    "for e, row in enumerate(csv.DictReader(open(\"C:/Python/Benford/train.csv\"))):\n",
    "\td[row[\"count\"][0]] += 1\n",
    "\td[row[\"registered\"][0]] += 1\n",
    "\td[row[\"casual\"][0]] += 1\n",
    "\n",
    "#Dont count zero as a starting digit\n",
    "del d[\"0\"]\n",
    "\n",
    "#Scaling\n",
    "total_numbers = sum(d.values())\n",
    "d = sorted([(d[k]/float(total_numbers),k) for k in d],reverse=True)\n",
    "\n",
    "#Comparison\n",
    "benford = [(log10(1+1.0/i),str(i)) for i in range(1,10)]\n",
    "\n",
    "#Plot first digit distribution vs. Benford\n",
    "plt.plot([x[0] for x in d],label='dataset')\n",
    "plt.plot([x[0] for x in benford],label='benford',linewidth=10,alpha=0.23)\n",
    "\n",
    "plt.ylabel(\"Distribution probability\", fontsize=14)\n",
    "plt.xlabel(\"First digit for %s numbers\"%total_numbers, fontsize=14)\n",
    "plt.title(\"The numbers in the columns $count$, $registered$, and $casual$ adhere to Benford's Law\\n\", fontsize=12)\n",
    "plt.xticks([x for x in range(len(d))],[int(x[1]) for x in d])\n",
    "plt.legend()\n",
    "plt.savefig(\"C:/Python/Benford1.png\")"
   ]
  },
  {
   "cell_type": "code",
   "execution_count": null,
   "id": "db0eff89-a02a-461c-a410-bbcc4ae9b3e2",
   "metadata": {},
   "outputs": [],
   "source": []
  }
 ],
 "metadata": {
  "kernelspec": {
   "display_name": "Python 3 (ipykernel)",
   "language": "python",
   "name": "python3"
  },
  "language_info": {
   "codemirror_mode": {
    "name": "ipython",
    "version": 3
   },
   "file_extension": ".py",
   "mimetype": "text/x-python",
   "name": "python",
   "nbconvert_exporter": "python",
   "pygments_lexer": "ipython3",
   "version": "3.12.4"
  }
 },
 "nbformat": 4,
 "nbformat_minor": 5
}
